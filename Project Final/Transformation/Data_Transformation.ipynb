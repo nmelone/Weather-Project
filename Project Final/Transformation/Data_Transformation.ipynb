{
 "cells": [
  {
   "cell_type": "code",
   "execution_count": 1,
   "metadata": {},
   "outputs": [],
   "source": [
    "import pandas as pd\n",
    "import numpy as np\n",
    "import os\n",
    "from tqdm import tqdm"
   ]
  },
  {
   "cell_type": "code",
   "execution_count": 2,
   "metadata": {},
   "outputs": [],
   "source": [
    "# Getting a list of files in raw data folder\n",
    "filenames = os.listdir('./processed_data/')"
   ]
  },
  {
   "cell_type": "code",
   "execution_count": 3,
   "metadata": {},
   "outputs": [],
   "source": [
    "# Commented out the unused features\n",
    "header_wanted = [\n",
    " 'HOURLYVISIBILITY',\n",
    " 'HOURLYDRYBULBTEMPC',\n",
    " 'HOURLYWETBULBTEMPC',\n",
    " 'HOURLYDewPointTempC',\n",
    " 'HOURLYRelativeHumidity',\n",
    " 'HOURLYWindSpeed',\n",
    " #'HOURLYWindGustSpeed',\n",
    " 'HOURLYStationPressure',\n",
    " #'HOURLYPressureTendency',\n",
    " #'HOURLYPressureChange',\n",
    " #'HOURLYSeaLevelPressure',\n",
    " #'HOURLYPrecip',\n",
    " #'HOURLYAltimeterSetting'\n",
    "]"
   ]
  },
  {
   "cell_type": "code",
   "execution_count": 4,
   "metadata": {},
   "outputs": [],
   "source": [
    "usecols = ['DATE','STATION'] + header_wanted"
   ]
  },
  {
   "cell_type": "code",
   "execution_count": 5,
   "metadata": {},
   "outputs": [
    {
     "name": "stderr",
     "output_type": "stream",
     "text": [
      "100%|████████████████████████████████████████████████████████████████████████████████| 372/372 [00:35<00:00, 10.53it/s]\n"
     ]
    }
   ],
   "source": [
    "# Loading all files into a pandas Dataframe and normalizing data to between 0 and 1\n",
    "tqdm.pandas()\n",
    "df = pd.concat([pd.read_csv('./processed_data/{}'.format(x), usecols=usecols, low_memory=False) for x in tqdm(filenames)])\n",
    "df[header_wanted] = (df[header_wanted] - df[header_wanted].min()) / (df[header_wanted].max() - df[header_wanted].min())"
   ]
  },
  {
   "cell_type": "markdown",
   "metadata": {},
   "source": [
    "At this point all the data has been loaded into a single dataframe and any data changes have been made. The next step is to break the data up by WBAN and place in a 2D array at the appropriate grid cell. "
   ]
  },
  {
   "cell_type": "code",
   "execution_count": 6,
   "metadata": {},
   "outputs": [],
   "source": [
    "stations = pd.read_csv(\"./stations_mask.csv\", usecols = ['STATION_ID', 'LON_SCALED', 'LAT_SCALED'])"
   ]
  },
  {
   "cell_type": "code",
   "execution_count": 7,
   "metadata": {},
   "outputs": [],
   "source": [
    "height = 20\n",
    "width = 40\n",
    "depth = 24 * 365 * 2"
   ]
  },
  {
   "cell_type": "code",
   "execution_count": 8,
   "metadata": {},
   "outputs": [],
   "source": [
    "mask = [([0] * width) for i in range(height)]\n",
    "\n",
    "wban_loc = dict(zip(stations.STATION_ID,zip(stations.LON_SCALED,stations.LAT_SCALED)))"
   ]
  },
  {
   "cell_type": "code",
   "execution_count": 9,
   "metadata": {},
   "outputs": [],
   "source": [
    "grid = [([pd.DataFrame()] * width) for i in range(height)]"
   ]
  },
  {
   "cell_type": "code",
   "execution_count": 10,
   "metadata": {},
   "outputs": [
    {
     "name": "stderr",
     "output_type": "stream",
     "text": [
      "100%|████████████████████████████████████████████████████████████████████████████████| 372/372 [03:51<00:00,  1.61it/s]\n"
     ]
    }
   ],
   "source": [
    "# Making a mask while also placing appropriate data frames in their final location\n",
    "for key, value in tqdm(wban_loc.items()):\n",
    "    mask[value[1]][value[0]] = 1\n",
    "    grid[value[1]][value[0]] = df.loc[df.STATION == key]"
   ]
  },
  {
   "cell_type": "code",
   "execution_count": 11,
   "metadata": {},
   "outputs": [],
   "source": [
    "import matplotlib.pyplot as plt\n",
    "%matplotlib inline"
   ]
  },
  {
   "cell_type": "code",
   "execution_count": 12,
   "metadata": {},
   "outputs": [
    {
     "data": {
      "text/plain": [
       "<matplotlib.image.AxesImage at 0x29f45330a20>"
      ]
     },
     "execution_count": 12,
     "metadata": {},
     "output_type": "execute_result"
    },
    {
     "data": {
      "image/png": "[encoded data removed]",
      "text/plain": [
       "<matplotlib.figure.Figure at 0x29f7e550908>"
      ]
     },
     "metadata": {},
     "output_type": "display_data"
    }
   ],
   "source": [
    "plt.imshow(mask)"
   ]
  },
  {
   "cell_type": "code",
   "execution_count": 13,
   "metadata": {},
   "outputs": [],
   "source": [
    "# Loops through every record and slices off a single record for each pixel to make a single frame and then exports\n",
    "# an array of frames\n",
    "def create_frames(data,height, width, depth):\n",
    "    days = []\n",
    "    frames = []\n",
    "    for i in tqdm(range(depth)):\n",
    "        frame = np.zeros((height,width,7))\n",
    "        frame[:,:,:] = np.nan\n",
    "        for y in range(height):\n",
    "            for x in range(width):\n",
    "                if(not data[y][x].empty):\n",
    "                    frame[y][x] = data[y][x].iloc[[i],1:8].values.flatten()\n",
    "        if((i+1)%24 != 0):\n",
    "            frames.append(frame)\n",
    "        else:\n",
    "            frames.append(frame)\n",
    "            days.append(frames)\n",
    "            frames = []\n",
    "    return np.array(days)"
   ]
  },
  {
   "cell_type": "code",
   "execution_count": 15,
   "metadata": {},
   "outputs": [],
   "source": [
    "# Returns an array of neighbors to be used in average_grid\n",
    "def get_neighbors(x,y,g):\n",
    "    neighbors = []\n",
    "    for i in [y-1,y,y+1]:\n",
    "        for j in [x-1,x,x+1]:\n",
    "            if(i >= 0 and j >= 0):\n",
    "                if(i != y or j != x ):\n",
    "                    try:\n",
    "                        neighbors.append(g[i][j])\n",
    "                    except:\n",
    "                        pass\n",
    "    return np.array(neighbors)"
   ]
  },
  {
   "cell_type": "code",
   "execution_count": 16,
   "metadata": {},
   "outputs": [],
   "source": [
    "# Merges the average frame with the true data frame to create an averaged frame\n",
    "def merge_frames(average, mask, data, height, width):\n",
    "    for i in range(height):\n",
    "        for j in range(width):\n",
    "            if(mask[i][j] != 1):\n",
    "                data[i][j] = average[i][j]"
   ]
  },
  {
   "cell_type": "code",
   "execution_count": 14,
   "metadata": {},
   "outputs": [],
   "source": [
    "# Takes a frame and then computes and average based on neighbor pixels without causing data drift\n",
    "def average_grid(mask,data, height, width):\n",
    "    temp_frame = [([0] * width) for i in range(height)]\n",
    "    for i in range(height):\n",
    "        for j in range(width):\n",
    "            if(mask[i][j] != 1):\n",
    "                neighbors = get_neighbors(j,i,data)\n",
    "                temp_frame[i][j] = np.nanmean(neighbors, axis=0)\n",
    "    merge_frames(temp_frame, mask, data, height, width)"
   ]
  },
  {
   "cell_type": "code",
   "execution_count": 17,
   "metadata": {},
   "outputs": [],
   "source": [
    "# Used to break frames into training, validation, and testing sets and store them in hickle files along with the\n",
    "# sources for each set\n",
    "def store_sequence(frames):\n",
    "    import hickle as hkl\n",
    "    train_frames = []\n",
    "    train_sources = []\n",
    "    validation_frames = []\n",
    "    validation_sources = []\n",
    "    test_frames = []\n",
    "    test_sources = []\n",
    "    \n",
    "    for day in range(len(frames)):\n",
    "        for hour in range(len(frames[day])):\n",
    "            if(day/len(frames) < .6):\n",
    "                train_sources.append(\"{}\".format(day))\n",
    "                train_frames.append(frames[day][hour])\n",
    "            elif(day/len(frames) >= .6 and day/len(frames) < .8):\n",
    "                validation_sources.append(\"{}\".format(day))\n",
    "                validation_frames.append(frames[day][hour])\n",
    "            else:\n",
    "                test_sources.append(\"{}\".format(day))\n",
    "                test_frames.append(frames[day][hour])\n",
    "    \n",
    "    print(\"There are {} frames and {} sources in training set\".format(len(train_frames), len(train_sources)))\n",
    "    print(\"There are {} frames and {} sources in validation set\".format(len(validation_frames), len(validation_sources)))\n",
    "    print(\"There are {} frames and {} sources in testing set\".format(len(test_frames), len(test_sources)))\n",
    "    \n",
    "    hkl.dump(np.array(train_frames), '../data/x_train.hkl')\n",
    "    hkl.dump(train_sources, '../data/sources_train.hkl')\n",
    "    hkl.dump(np.array(validation_frames), '../data/x_val.hkl')\n",
    "    hkl.dump(validation_sources, '../data/sources_val.hkl')\n",
    "    hkl.dump(np.array(test_frames), '../data/x_test.hkl')\n",
    "    hkl.dump(test_sources, '../data/sources_test.hkl')\n",
    "            "
   ]
  },
  {
   "cell_type": "code",
   "execution_count": 18,
   "metadata": {},
   "outputs": [
    {
     "name": "stderr",
     "output_type": "stream",
     "text": [
      "100%|██████████████████████████████████████████████████████████████████████████| 17520/17520 [1:12:35<00:00,  4.02it/s]\n"
     ]
    }
   ],
   "source": [
    "frames = create_frames(grid, height, width,depth)"
   ]
  },
  {
   "cell_type": "code",
   "execution_count": 1,
   "metadata": {},
   "outputs": [
    {
     "ename": "NameError",
     "evalue": "name 'plt' is not defined",
     "output_type": "error",
     "traceback": [
      "\u001b[1;31m---------------------------------------------------------------------------\u001b[0m",
      "\u001b[1;31mNameError\u001b[0m                                 Traceback (most recent call last)",
      "\u001b[1;32m<ipython-input-1-af157f4d23f7>\u001b[0m in \u001b[0;36m<module>\u001b[1;34m()\u001b[0m\n\u001b[1;32m----> 1\u001b[1;33m \u001b[0mfig\u001b[0m\u001b[1;33m=\u001b[0m\u001b[0mplt\u001b[0m\u001b[1;33m.\u001b[0m\u001b[0mfigure\u001b[0m\u001b[1;33m(\u001b[0m\u001b[0mfigsize\u001b[0m\u001b[1;33m=\u001b[0m\u001b[1;33m(\u001b[0m\u001b[1;36m15\u001b[0m\u001b[1;33m,\u001b[0m\u001b[1;36m10\u001b[0m\u001b[1;33m)\u001b[0m\u001b[1;33m,\u001b[0m \u001b[0mnorm\u001b[0m\u001b[1;33m=\u001b[0m\u001b[1;32mTrue\u001b[0m\u001b[1;33m)\u001b[0m\u001b[1;33m\u001b[0m\u001b[0m\n\u001b[0m\u001b[0;32m      2\u001b[0m \u001b[0mcolumns\u001b[0m \u001b[1;33m=\u001b[0m \u001b[1;36m3\u001b[0m\u001b[1;33m\u001b[0m\u001b[0m\n\u001b[0;32m      3\u001b[0m \u001b[0mrows\u001b[0m \u001b[1;33m=\u001b[0m \u001b[1;36m4\u001b[0m\u001b[1;33m\u001b[0m\u001b[0m\n\u001b[0;32m      4\u001b[0m \u001b[1;32mfor\u001b[0m \u001b[0mi\u001b[0m \u001b[1;32min\u001b[0m \u001b[0mrange\u001b[0m\u001b[1;33m(\u001b[0m\u001b[1;36m1\u001b[0m\u001b[1;33m,\u001b[0m\u001b[0mcolumns\u001b[0m\u001b[1;33m+\u001b[0m\u001b[0mrows\u001b[0m \u001b[1;33m+\u001b[0m\u001b[1;36m1\u001b[0m\u001b[1;33m)\u001b[0m\u001b[1;33m:\u001b[0m\u001b[1;33m\u001b[0m\u001b[0m\n\u001b[0;32m      5\u001b[0m     \u001b[0mfig\u001b[0m\u001b[1;33m.\u001b[0m\u001b[0madd_subplot\u001b[0m\u001b[1;33m(\u001b[0m\u001b[0mrows\u001b[0m\u001b[1;33m,\u001b[0m\u001b[0mcolumns\u001b[0m\u001b[1;33m,\u001b[0m\u001b[0mi\u001b[0m\u001b[1;33m)\u001b[0m\u001b[1;33m\u001b[0m\u001b[0m\n",
      "\u001b[1;31mNameError\u001b[0m: name 'plt' is not defined"
     ]
    }
   ],
   "source": [
    "# Plotting the newly made frame\n",
    "fig=plt.figure(figsize=(15,10))\n",
    "columns = 3\n",
    "rows = 4\n",
    "for i in range(1,columns+rows +1):\n",
    "    fig.add_subplot(rows,columns,i)\n",
    "    plt.imshow(frames[0,0,:,:,i-1])\n",
    "    plt.ylabel(header_wanted[i-1], fontsize=10)\n"
   ]
  },
  {
   "cell_type": "code",
   "execution_count": 22,
   "metadata": {},
   "outputs": [
    {
     "name": "stderr",
     "output_type": "stream",
     "text": [
      "  0%|                                                                                          | 0/730 [00:00<?, ?it/s]c:\\users\\dasputer\\appdata\\local\\programs\\python\\python36\\lib\\site-packages\\ipykernel_launcher.py:7: RuntimeWarning: Mean of empty slice\n",
      "  import sys\n",
      "100%|████████████████████████████████████████████████████████████████████████████████| 730/730 [13:47<00:00,  1.13s/it]\n"
     ]
    }
   ],
   "source": [
    "# Loop used to go over each frame and have it averaged\n",
    "for x in tqdm(range(len(frames))):\n",
    "    for y in range(len(frames[0])):\n",
    "        average_grid(mask, frames[x][y], height, width )"
   ]
  },
  {
   "cell_type": "code",
   "execution_count": 23,
   "metadata": {},
   "outputs": [
    {
     "data": {
      "image/png": "[encoded data removed]",
      "text/plain": [
       "<matplotlib.figure.Figure at 0x29f454a4908>"
      ]
     },
     "metadata": {},
     "output_type": "display_data"
    }
   ],
   "source": [
    "# Plotting a newly averaged frame\n",
    "fig=plt.figure(figsize=(15,10))\n",
    "columns = 3\n",
    "rows = 4\n",
    "for i in range(1,columns+rows +1):\n",
    "    fig.add_subplot(rows,columns,i)\n",
    "    plt.imshow(frames[0,0,:,:,i-1])\n",
    "    plt.ylabel(header_wanted[i-1], fontsize=10)"
   ]
  },
  {
   "cell_type": "code",
   "execution_count": null,
   "metadata": {},
   "outputs": [],
   "source": [
    "frames.shape"
   ]
  },
  {
   "cell_type": "code",
   "execution_count": 24,
   "metadata": {},
   "outputs": [
    {
     "name": "stdout",
     "output_type": "stream",
     "text": [
      "There are 10512 frames and 10512 sources in training set\n",
      "There are 3504 frames and 3504 sources in validation set\n",
      "There are 3504 frames and 3504 sources in testing set\n"
     ]
    }
   ],
   "source": [
    "store_sequence(frames)"
   ]
  },
  {
   "cell_type": "markdown",
   "metadata": {},
   "source": [
    "At this point the data has been processed and made into discrete frames and it is time to run it through the PredNet architecture for training."
   ]
  }
 ],
 "metadata": {
  "kernelspec": {
   "display_name": "Python 3",
   "language": "python",
   "name": "python3"
  },
  "language_info": {
   "codemirror_mode": {
    "name": "ipython",
    "version": 3
   },
   "file_extension": ".py",
   "mimetype": "text/x-python",
   "name": "python",
   "nbconvert_exporter": "python",
   "pygments_lexer": "ipython3",
   "version": "3.6.4"
  }
 },
 "nbformat": 4,
 "nbformat_minor": 2
}
